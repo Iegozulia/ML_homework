{
 "cells": [
  {
   "cell_type": "code",
   "execution_count": 1,
   "id": "920e2f89",
   "metadata": {},
   "outputs": [],
   "source": [
    "a = 3\n",
    "b = 4\n",
    "c = a + b"
   ]
  },
  {
   "cell_type": "code",
   "execution_count": 2,
   "id": "2ac39e3f",
   "metadata": {},
   "outputs": [
    {
     "name": "stdout",
     "output_type": "stream",
     "text": [
      "7\n"
     ]
    }
   ],
   "source": [
    "print(c)"
   ]
  },
  {
   "cell_type": "code",
   "execution_count": 3,
   "id": "9a9e83d3",
   "metadata": {
    "scrolled": true
   },
   "outputs": [
    {
     "name": "stdout",
     "output_type": "stream",
     "text": [
      "The number is  0\n",
      "The number is  1\n",
      "The number is  2\n",
      "The number is  3\n",
      "The number is  4\n",
      "The number is  5\n",
      "The number is  6\n",
      "The number is  7\n",
      "The number is  8\n",
      "The number is  9\n",
      "The number is  10\n",
      "The number is  11\n",
      "The number is  12\n",
      "The number is  13\n",
      "The number is  14\n",
      "The number is  15\n",
      "The number is  16\n",
      "The number is  17\n",
      "The number is  18\n",
      "The number is  19\n",
      "The number is  20\n",
      "The number is  21\n",
      "The number is  22\n",
      "The number is  23\n",
      "The number is  24\n",
      "The number is  25\n",
      "The number is  26\n",
      "The number is  27\n",
      "The number is  28\n",
      "The number is  29\n",
      "The number is  30\n",
      "The number is  31\n",
      "The number is  32\n",
      "The number is  33\n",
      "The number is  34\n",
      "The number is  35\n",
      "The number is  36\n",
      "The number is  37\n",
      "The number is  38\n",
      "The number is  39\n",
      "The number is  40\n",
      "The number is  41\n",
      "The number is  42\n",
      "The number is  43\n",
      "The number is  44\n",
      "The number is  45\n",
      "The number is  46\n",
      "The number is  47\n",
      "The number is  48\n",
      "The number is  49\n",
      "The number is  50\n",
      "The number is  51\n",
      "The number is  52\n",
      "The number is  53\n",
      "The number is  54\n",
      "The number is  55\n",
      "The number is  56\n",
      "The number is  57\n",
      "The number is  58\n",
      "The number is  59\n",
      "The number is  60\n",
      "The number is  61\n",
      "The number is  62\n",
      "The number is  63\n",
      "The number is  64\n",
      "The number is  65\n",
      "The number is  66\n",
      "The number is  67\n",
      "The number is  68\n",
      "The number is  69\n",
      "The number is  70\n",
      "The number is  71\n",
      "The number is  72\n",
      "The number is  73\n",
      "The number is  74\n",
      "The number is  75\n",
      "The number is  76\n",
      "The number is  77\n",
      "The number is  78\n",
      "The number is  79\n",
      "The number is  80\n",
      "The number is  81\n",
      "The number is  82\n",
      "The number is  83\n",
      "The number is  84\n",
      "The number is  85\n",
      "The number is  86\n",
      "The number is  87\n",
      "The number is  88\n",
      "The number is  89\n",
      "The number is  90\n",
      "The number is  91\n",
      "The number is  92\n",
      "The number is  93\n",
      "The number is  94\n",
      "The number is  95\n",
      "The number is  96\n",
      "The number is  97\n",
      "The number is  98\n",
      "The number is  99\n"
     ]
    }
   ],
   "source": [
    "for i in range(100):\n",
    "    print(\"The number is \", i)"
   ]
  },
  {
   "cell_type": "code",
   "execution_count": 8,
   "id": "cad064b2",
   "metadata": {},
   "outputs": [],
   "source": [
    "import matplotlib.pyplot as plt"
   ]
  },
  {
   "cell_type": "code",
   "execution_count": 9,
   "id": "6d15f1b8",
   "metadata": {},
   "outputs": [],
   "source": [
    "x = [-6,-2,0,-2,-6]\n",
    "y = [6,2,0,2,6]"
   ]
  },
  {
   "cell_type": "code",
   "execution_count": 10,
   "id": "96b02a90",
   "metadata": {},
   "outputs": [
    {
     "data": {
      "text/plain": [
       "[<matplotlib.lines.Line2D at 0x235e788eb10>]"
      ]
     },
     "execution_count": 10,
     "metadata": {},
     "output_type": "execute_result"
    },
    {
     "data": {
      "image/png": "[encoded data removed]",
      "text/plain": [
       "<Figure size 640x480 with 1 Axes>"
      ]
     },
     "metadata": {},
     "output_type": "display_data"
    }
   ],
   "source": [
    "plt.plot(x,y)"
   ]
  },
  {
   "cell_type": "code",
   "execution_count": 12,
   "id": "ee3deac5",
   "metadata": {},
   "outputs": [
    {
     "name": "stdout",
     "output_type": "stream",
     "text": [
      "Active code page: 65001\n"
     ]
    }
   ],
   "source": [
    "! chcp 65001"
   ]
  },
  {
   "cell_type": "code",
   "execution_count": 13,
   "id": "395dbbd8",
   "metadata": {},
   "outputs": [
    {
     "name": "stdout",
     "output_type": "stream",
     "text": [
      "\n",
      "Pinging www.google.com [216.58.211.228] with 32 bytes of data:\n",
      "Reply from 216.58.211.228: bytes=32 time=21ms TTL=59\n",
      "Reply from 216.58.211.228: bytes=32 time=21ms TTL=59\n",
      "Reply from 216.58.211.228: bytes=32 time=21ms TTL=59\n",
      "Reply from 216.58.211.228: bytes=32 time=21ms TTL=59\n",
      "\n",
      "Ping statistics for 216.58.211.228:\n",
      "    Packets: Sent = 4, Received = 4, Lost = 0 (0% loss),\n",
      "Approximate round trip times in milli-seconds:\n",
      "    Minimum = 21ms, Maximum = 21ms, Average = 21ms\n"
     ]
    }
   ],
   "source": [
    "! ping www.google.com\n"
   ]
  },
  {
   "cell_type": "markdown",
   "id": "b2d0dbf7",
   "metadata": {},
   "source": [
    "# Ну это конечно сложно"
   ]
  },
  {
   "cell_type": "markdown",
   "id": "8977878d",
   "metadata": {},
   "source": [
    "## не это\n"
   ]
  },
  {
   "cell_type": "markdown",
   "id": "c66d4885",
   "metadata": {},
   "source": []
  },
  {
   "cell_type": "code",
   "execution_count": 1,
   "id": "79639a01",
   "metadata": {},
   "outputs": [],
   "source": [
    "import script "
   ]
  },
  {
   "cell_type": "code",
   "execution_count": 2,
   "id": "5abc69e0",
   "metadata": {},
   "outputs": [
    {
     "data": {
      "text/plain": [
       "25"
      ]
     },
     "execution_count": 2,
     "metadata": {},
     "output_type": "execute_result"
    }
   ],
   "source": [
    "script.square(5)"
   ]
  },
  {
   "cell_type": "code",
   "execution_count": null,
   "id": "44f3a806",
   "metadata": {},
   "outputs": [],
   "source": []
  }
 ],
 "metadata": {
  "kernelspec": {
   "display_name": "Python 3 (ipykernel)",
   "language": "python",
   "name": "python3"
  },
  "language_info": {
   "codemirror_mode": {
    "name": "ipython",
    "version": 3
   },
   "file_extension": ".py",
   "mimetype": "text/x-python",
   "name": "python",
   "nbconvert_exporter": "python",
   "pygments_lexer": "ipython3",
   "version": "3.11.5"
  }
 },
 "nbformat": 4,
 "nbformat_minor": 5
}
