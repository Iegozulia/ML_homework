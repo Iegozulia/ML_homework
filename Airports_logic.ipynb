{
 "cells": [
  {
   "cell_type": "code",
   "execution_count": 1,
   "id": "c857a7bb",
   "metadata": {},
   "outputs": [],
   "source": [
    "import numpy as np\n",
    "import pandas as pd\n",
    "import seaborn as sns\n",
    "from matplotlib import pyplot as plt\n",
    "from tabulate import tabulate\n"
   ]
  },
  {
   "cell_type": "code",
   "execution_count": 2,
   "id": "1f95f7be",
   "metadata": {},
   "outputs": [],
   "source": [
    "import warnings\n",
    "warnings.filterwarnings('ignore')\n"
   ]
  },
  {
   "cell_type": "code",
   "execution_count": 3,
   "id": "722c6131",
   "metadata": {},
   "outputs": [],
   "source": [
    "file_path = 'ticket_dataset_RusAirports.json'\n",
    "df = pd.read_json(file_path)"
   ]
  },
  {
   "cell_type": "code",
   "execution_count": 4,
   "id": "8bcd106d",
   "metadata": {},
   "outputs": [
    {
     "name": "stdout",
     "output_type": "stream",
     "text": [
      "   value  trip_class origin  number_of_changes            found_at  \\\n",
      "0  43270           0    MOW                2.0 2022-03-30 14:54:04   \n",
      "1  28166           0    MOW                3.0 2022-04-02 08:08:06   \n",
      "2  24159           0    MOW                2.0 2022-04-01 09:23:26   \n",
      "3  11160           0    MOW                1.0 2022-04-02 12:09:50   \n",
      "4  19920           0    MOW                1.0 2022-04-02 12:44:34   \n",
      "\n",
      "  destination depart_date airline search_date  \n",
      "0         SYZ  2022-04-21      TK  2022-04-02  \n",
      "1         SPU  2022-04-25      W6  2022-04-02  \n",
      "2         SZF  2022-04-14      TK  2022-04-02  \n",
      "3         ABA  2022-04-12      S7  2022-04-02  \n",
      "4         CAI  2022-04-14      SU  2022-04-02  \n",
      "(106348, 9)\n",
      "<class 'pandas.core.frame.DataFrame'>\n",
      "RangeIndex: 106348 entries, 0 to 106347\n",
      "Data columns (total 9 columns):\n",
      " #   Column             Non-Null Count   Dtype         \n",
      "---  ------             --------------   -----         \n",
      " 0   value              106348 non-null  int64         \n",
      " 1   trip_class         106348 non-null  int64         \n",
      " 2   origin             106348 non-null  object        \n",
      " 3   number_of_changes  88200 non-null   float64       \n",
      " 4   found_at           106348 non-null  datetime64[ns]\n",
      " 5   destination        106348 non-null  object        \n",
      " 6   depart_date        106348 non-null  object        \n",
      " 7   airline            106348 non-null  object        \n",
      " 8   search_date        106348 non-null  object        \n",
      "dtypes: datetime64[ns](1), float64(1), int64(2), object(5)\n",
      "memory usage: 7.3+ MB\n",
      "None\n"
     ]
    }
   ],
   "source": [
    "print(df.head())\n",
    "print(df.shape)\n",
    "print(df.info())\n",
    "df['number_of_changes'].fillna(0, inplace=True)\n"
   ]
  },
  {
   "cell_type": "code",
   "execution_count": 5,
   "id": "2ea3355a",
   "metadata": {},
   "outputs": [],
   "source": [
    "df_ticket = df.copy()"
   ]
  },
  {
   "cell_type": "code",
   "execution_count": 6,
   "id": "ba810be0",
   "metadata": {},
   "outputs": [],
   "source": [
    "df_ticket.drop(columns=['trip_class'], inplace=True)"
   ]
  },
  {
   "cell_type": "code",
   "execution_count": 7,
   "id": "78941365",
   "metadata": {},
   "outputs": [],
   "source": [
    "dt_cols = ['depart_date', 'search_date']\n",
    "for dt_col in dt_cols:\n",
    "    df_ticket[dt_col] = pd.to_datetime(df_ticket[dt_col])"
   ]
  },
  {
   "cell_type": "code",
   "execution_count": 8,
   "id": "ef2e6cac",
   "metadata": {},
   "outputs": [],
   "source": [
    "df_ticket.rename(columns={'value':'price'}, inplace=True)"
   ]
  },
  {
   "cell_type": "code",
   "execution_count": 9,
   "id": "02a72d81",
   "metadata": {},
   "outputs": [],
   "source": [
    "df_ticket['number_of_changes'] = df_ticket['number_of_changes'].astype('int8')"
   ]
  },
  {
   "cell_type": "code",
   "execution_count": 10,
   "id": "55809897",
   "metadata": {},
   "outputs": [],
   "source": [
    "for dt_col in dt_cols:\n",
    "    prefix = dt_col.split('_date')[0]\n",
    "    s_date = df_ticket[dt_col]\n",
    "    \n",
    "    df_ticket[f'{prefix}_month'] = s_date.dt.month\n",
    "    df_ticket[f'{prefix}_weekday'] = s_date.dt.weekday\n",
    "    df_ticket[f'{prefix}_day'] = s_date.dt.day"
   ]
  },
  {
   "cell_type": "code",
   "execution_count": 13,
   "id": "5f414791",
   "metadata": {},
   "outputs": [
    {
     "name": "stdout",
     "output_type": "stream",
     "text": [
      "   price origin  number_of_changes            found_at destination  \\\n",
      "0  43270    MOW                  2 2022-03-30 14:54:04         SYZ   \n",
      "1  28166    MOW                  3 2022-04-02 08:08:06         SPU   \n",
      "2  24159    MOW                  2 2022-04-01 09:23:26         SZF   \n",
      "3  11160    MOW                  1 2022-04-02 12:09:50         ABA   \n",
      "4  19920    MOW                  1 2022-04-02 12:44:34         CAI   \n",
      "\n",
      "  depart_date airline search_date  depart_month  depart_weekday  depart_day  \\\n",
      "0  2022-04-21      TK  2022-04-02             4               3          21   \n",
      "1  2022-04-25      W6  2022-04-02             4               0          25   \n",
      "2  2022-04-14      TK  2022-04-02             4               3          14   \n",
      "3  2022-04-12      S7  2022-04-02             4               1          12   \n",
      "4  2022-04-14      SU  2022-04-02             4               3          14   \n",
      "\n",
      "   search_month  search_weekday  search_day  \n",
      "0             4               5           2  \n",
      "1             4               5           2  \n",
      "2             4               5           2  \n",
      "3             4               5           2  \n",
      "4             4               5           2  \n",
      "(106348, 14)\n",
      "<class 'pandas.core.frame.DataFrame'>\n",
      "RangeIndex: 106348 entries, 0 to 106347\n",
      "Data columns (total 14 columns):\n",
      " #   Column             Non-Null Count   Dtype         \n",
      "---  ------             --------------   -----         \n",
      " 0   price              106348 non-null  int64         \n",
      " 1   origin             106348 non-null  object        \n",
      " 2   number_of_changes  106348 non-null  int8          \n",
      " 3   found_at           106348 non-null  datetime64[ns]\n",
      " 4   destination        106348 non-null  object        \n",
      " 5   depart_date        106348 non-null  datetime64[ns]\n",
      " 6   airline            106348 non-null  object        \n",
      " 7   search_date        106348 non-null  datetime64[ns]\n",
      " 8   depart_month       106348 non-null  int32         \n",
      " 9   depart_weekday     106348 non-null  int32         \n",
      " 10  depart_day         106348 non-null  int32         \n",
      " 11  search_month       106348 non-null  int32         \n",
      " 12  search_weekday     106348 non-null  int32         \n",
      " 13  search_day         106348 non-null  int32         \n",
      "dtypes: datetime64[ns](3), int32(6), int64(1), int8(1), object(3)\n",
      "memory usage: 8.2+ MB\n",
      "None\n"
     ]
    }
   ],
   "source": [
    "print(df_ticket.head())\n",
    "print(df_ticket.shape)\n",
    "print(df_ticket.info())"
   ]
  },
  {
   "cell_type": "code",
   "execution_count": null,
   "id": "73f85a20",
   "metadata": {},
   "outputs": [],
   "source": []
  }
 ],
 "metadata": {
  "kernelspec": {
   "display_name": "Python 3 (ipykernel)",
   "language": "python",
   "name": "python3"
  },
  "language_info": {
   "codemirror_mode": {
    "name": "ipython",
    "version": 3
   },
   "file_extension": ".py",
   "mimetype": "text/x-python",
   "name": "python",
   "nbconvert_exporter": "python",
   "pygments_lexer": "ipython3",
   "version": "3.11.5"
  }
 },
 "nbformat": 4,
 "nbformat_minor": 5
}
